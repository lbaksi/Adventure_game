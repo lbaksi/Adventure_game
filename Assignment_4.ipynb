{
 "cells": [
  {
   "cell_type": "code",
   "execution_count": 1,
   "metadata": {},
   "outputs": [
    {
     "name": "stdout",
     "output_type": "stream",
     "text": [
      "Welcome to the Adventure Game! It is spooky Halloween night in Salem and you are out trick or treating. As you are walking by you find an old house. Will you knock on the door. (Yes / No) \n",
      "An old lady opens the door and asks if you are under 12\n",
      "You are too old to go trick or treating. GAME OVER!\n"
     ]
    }
   ],
   "source": [
    "answer_yes = ['Yes', 'yes', 'Y', 'y']\n",
    "\n",
    "answer_no = ['No', 'no', 'N', 'n']\n",
    "\n",
    "print('Welcome to the Adventure Game! It is spooky Halloween night in Salem and you are out trick or treating. As you are walking by you find an old house. Will you knock on the door. (Yes / No) ')\n",
    "ans1 = input(\"\")\n",
    "if ans1 in answer_yes:\n",
    "    print('An old lady opens the door and asks if you are under 12')\n",
    "    ans2 = input(\"\")\n",
    "    if ans2 in answer_yes:\n",
    "        print('You can get a sweet!You won the game!')\n",
    "    elif ans2 in answer_no:\n",
    "        print('You are too old to go trick or treating. GAME OVER!')\n",
    "    else:\n",
    "        print('You typed the wrong input. GOOD BYE!')\n",
    "elif ans1 in answer_no:\n",
    "    print('A zombie starts chasing you. Will you run or knock on the door for help? (Yes / No)')\n",
    "    ans3 = input(\"\")\n",
    "    if ans1 in answer_yes:\n",
    "        print('Congrats! An old lady opens the door & lets you in. You are safe.')\n",
    "    elif ans3 in answer_no:\n",
    "        print('The zombie attacked you. You are dead. GAME OVER!')\n",
    "    else:\n",
    "        print('You typed the wrong input. GOOD BYE!')"
   ]
  }
 ],
 "metadata": {
  "kernelspec": {
   "display_name": "Python 3",
   "language": "python",
   "name": "python3"
  },
  "language_info": {
   "codemirror_mode": {
    "name": "ipython",
    "version": 3
   },
   "file_extension": ".py",
   "mimetype": "text/x-python",
   "name": "python",
   "nbconvert_exporter": "python",
   "pygments_lexer": "ipython3",
   "version": "3.11.2"
  },
  "orig_nbformat": 4
 },
 "nbformat": 4,
 "nbformat_minor": 2
}
