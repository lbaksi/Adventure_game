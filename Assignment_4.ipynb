{
 "cells": [
  {
   "cell_type": "code",
   "execution_count": 24,
   "metadata": {},
   "outputs": [
    {
     "name": "stdout",
     "output_type": "stream",
     "text": [
      "Welcome to the Adventure Game!\n",
      "It is spooky Halloween night in Salem and you are out trick or treating. As you are walking by, you find an old house. Will you knock on the door. (Yes / No) \n",
      "A zombie starts chasing you. Will you run or knock on the door for help? (Yes / No)\n",
      "Congrats! An old lady opens the door & lets you in. You are safe.\n",
      "You see a spooky door in the entrance of the old lady, labeled as \"DO NOT ENTER\". Will you enter through the door? (Yes / No)\n",
      "You decide not to go through, maybe another time! The game continues.\n"
     ]
    }
   ],
   "source": [
    "## define variables for Yes and No answers\n",
    "## write an introduction for the game\n",
    "## explain the setting for the adventure game\n",
    "\n",
    "## 1st scenario:\n",
    "## if the answer is 'yes' to knocking on the door, move to asking the player's the age\n",
    "## if age is bigger than 12, print too old for the game, Game Over - use if\n",
    "## if age is smaller than 12, print you can get a sweet and win the game - use elif\n",
    "## if any other, print wrong input, good bye - use else\n",
    "\n",
    "## 2nd scenario:\n",
    "## if the is answer is 'No' to opening the door, ask another question 'zombie chasing you, will you knock for help?'\n",
    "## if the player knocks on the door, print congrats on being saved\n",
    "## if the player doesn't knock on the door, print you are dead and Game over\n",
    "## if any other, print wrong input, good bye   \n",
    "\n",
    "## 3rd scenario within the 2nd scenario\n",
    "## if the answer is no to zombie chasing question, ask another question 'there is a spooky door in the old lady's house labeled as do not enter, will you enter?'\n",
    "## if the answer is yes to entering, print you discover a table full of sweets, you won the game\n",
    "## if the answer is no to entering, print maybe next time, Game Over\n",
    "## if any other, print wrong input\n",
    "\n",
    "answer_yes = ['Yes', 'yes', 'Y', 'y']\n",
    "answer_no = ['No', 'no', 'N', 'n']\n",
    "\n",
    "print('Welcome to the Adventure Game!') \n",
    "print('It is spooky Halloween night in Salem and you are out trick or treating. As you are walking by, you find an old house. Will you knock on the door. (Yes / No) ')\n",
    "\n",
    "ans1 = input(\"\")\n",
    "if ans1 in answer_yes:\n",
    "    print('An old lady opens the door and asks if you are under 12')\n",
    "    ans2 = input(\"\")\n",
    "    if ans2 in answer_yes:\n",
    "        print('You can get a sweet!You won the game!')\n",
    "    elif ans2 in answer_no:\n",
    "        print('You are too old to go trick or treating. GAME OVER!')\n",
    "    else:\n",
    "        print('You typed the wrong input. GOOD BYE!')\n",
    "elif ans1 in answer_no:\n",
    "    print('A zombie starts chasing you. Will you run or knock on the door for help? (Yes / No)')\n",
    "    ans3 = input(\"\")\n",
    "    if ans3 in answer_yes:\n",
    "        print('Congrats! An old lady opens the door & lets you in. You are safe.')\n",
    "        print('You see a spooky door in the entrance of the old lady, labeled as \"DO NOT ENTER\". Will you enter through the door? (Yes / No)')\n",
    "        ans4 = input(\"\")\n",
    "        if ans4 in answer_yes:\n",
    "            print('You opened the door and discovered a table full of sweets! You won the game!')\n",
    "        elif ans4 in answer_no:\n",
    "            print('You decide not to go through, maybe next time! GAME OVER.')\n",
    "        else:\n",
    "            print('You typed the wrong input. GOODBYE!')\n",
    "    elif ans3 in answer_no:\n",
    "        print('The zombie attacked you. You are dead. GAME OVER!')\n",
    "    else:\n",
    "        print('You typed the wrong input. GOOD BYE!')\n",
    "\n",
    "     "
   ]
  }
 ],
 "metadata": {
  "kernelspec": {
   "display_name": "Python 3",
   "language": "python",
   "name": "python3"
  },
  "language_info": {
   "codemirror_mode": {
    "name": "ipython",
    "version": 3
   },
   "file_extension": ".py",
   "mimetype": "text/x-python",
   "name": "python",
   "nbconvert_exporter": "python",
   "pygments_lexer": "ipython3",
   "version": "3.11.2"
  },
  "orig_nbformat": 4
 },
 "nbformat": 4,
 "nbformat_minor": 2
}
